{
 "cells": [
  {
   "cell_type": "markdown",
   "metadata": {},
   "source": [
    "# Load the complete geographical dataset"
   ]
  },
  {
   "cell_type": "code",
   "execution_count": 1,
   "metadata": {
    "collapsed": false
   },
   "outputs": [],
   "source": [
    "import pandas as pd\n",
    "import seaborn as sns\n",
    "import matplotlib.pyplot as plt\n",
    "%matplotlib inline\n",
    "import numpy as np"
   ]
  },
  {
   "cell_type": "code",
   "execution_count": 3,
   "metadata": {
    "collapsed": false
   },
   "outputs": [
    {
     "data": {
      "text/html": [
       "<div>\n",
       "<table border=\"1\" class=\"dataframe\">\n",
       "  <thead>\n",
       "    <tr style=\"text-align: right;\">\n",
       "      <th></th>\n",
       "      <th>city</th>\n",
       "      <th>latitude</th>\n",
       "      <th>longitude</th>\n",
       "      <th>runners</th>\n",
       "      <th>distance</th>\n",
       "      <th>population</th>\n",
       "      <th>canton</th>\n",
       "    </tr>\n",
       "  </thead>\n",
       "  <tbody>\n",
       "    <tr>\n",
       "      <th>0</th>\n",
       "      <td>St-Légier-La Chiésaz</td>\n",
       "      <td>46.47171849999999</td>\n",
       "      <td>6.876770899999999</td>\n",
       "      <td>12</td>\n",
       "      <td>24209.0</td>\n",
       "      <td>NaN</td>\n",
       "      <td>NaN</td>\n",
       "    </tr>\n",
       "    <tr>\n",
       "      <th>1</th>\n",
       "      <td>St-Légier</td>\n",
       "      <td>46.47171849999999</td>\n",
       "      <td>6.876770899999999</td>\n",
       "      <td>57</td>\n",
       "      <td>24023.0</td>\n",
       "      <td>NaN</td>\n",
       "      <td>NaN</td>\n",
       "    </tr>\n",
       "    <tr>\n",
       "      <th>2</th>\n",
       "      <td>Ernen</td>\n",
       "      <td>46.39850010000001</td>\n",
       "      <td>8.1457733</td>\n",
       "      <td>1</td>\n",
       "      <td>165658.0</td>\n",
       "      <td>NaN</td>\n",
       "      <td>NaN</td>\n",
       "    </tr>\n",
       "    <tr>\n",
       "      <th>3</th>\n",
       "      <td>Lausanne</td>\n",
       "      <td>46.5196535</td>\n",
       "      <td>6.6322734</td>\n",
       "      <td>2043</td>\n",
       "      <td>0.0</td>\n",
       "      <td>135629</td>\n",
       "      <td>VD</td>\n",
       "    </tr>\n",
       "    <tr>\n",
       "      <th>4</th>\n",
       "      <td>Pully</td>\n",
       "      <td>46.5092681</td>\n",
       "      <td>6.6654949</td>\n",
       "      <td>312</td>\n",
       "      <td>3001.0</td>\n",
       "      <td>17807</td>\n",
       "      <td>VD</td>\n",
       "    </tr>\n",
       "    <tr>\n",
       "      <th>5</th>\n",
       "      <td>Chavannes-près-Renens</td>\n",
       "      <td>46.5316376</td>\n",
       "      <td>6.574969599999999</td>\n",
       "      <td>56</td>\n",
       "      <td>5363.0</td>\n",
       "      <td>NaN</td>\n",
       "      <td>NaN</td>\n",
       "    </tr>\n",
       "    <tr>\n",
       "      <th>6</th>\n",
       "      <td>F-Amiens</td>\n",
       "      <td>49.894067</td>\n",
       "      <td>2.295753</td>\n",
       "      <td>1</td>\n",
       "      <td>660413.0</td>\n",
       "      <td>NaN</td>\n",
       "      <td>NaN</td>\n",
       "    </tr>\n",
       "    <tr>\n",
       "      <th>7</th>\n",
       "      <td>Genève</td>\n",
       "      <td>46.2043907</td>\n",
       "      <td>6.1431577</td>\n",
       "      <td>503</td>\n",
       "      <td>63283.0</td>\n",
       "      <td>NaN</td>\n",
       "      <td>NaN</td>\n",
       "    </tr>\n",
       "    <tr>\n",
       "      <th>8</th>\n",
       "      <td>Poliez-le-Grand</td>\n",
       "      <td>46.63767</td>\n",
       "      <td>6.66287</td>\n",
       "      <td>6</td>\n",
       "      <td>18352.0</td>\n",
       "      <td>NaN</td>\n",
       "      <td>NaN</td>\n",
       "    </tr>\n",
       "    <tr>\n",
       "      <th>9</th>\n",
       "      <td>E-L'Hospitalet de Llobreg</td>\n",
       "      <td>41.3661865</td>\n",
       "      <td>2.1164942</td>\n",
       "      <td>1</td>\n",
       "      <td>852778.0</td>\n",
       "      <td>NaN</td>\n",
       "      <td>NaN</td>\n",
       "    </tr>\n",
       "  </tbody>\n",
       "</table>\n",
       "</div>"
      ],
      "text/plain": [
       "                        city           latitude          longitude  runners  \\\n",
       "0       St-Légier-La Chiésaz  46.47171849999999  6.876770899999999       12   \n",
       "1                  St-Légier  46.47171849999999  6.876770899999999       57   \n",
       "2                      Ernen  46.39850010000001          8.1457733        1   \n",
       "3                   Lausanne         46.5196535          6.6322734     2043   \n",
       "4                      Pully         46.5092681          6.6654949      312   \n",
       "5      Chavannes-près-Renens         46.5316376  6.574969599999999       56   \n",
       "6                   F-Amiens          49.894067           2.295753        1   \n",
       "7                     Genève         46.2043907          6.1431577      503   \n",
       "8            Poliez-le-Grand           46.63767            6.66287        6   \n",
       "9  E-L'Hospitalet de Llobreg         41.3661865          2.1164942        1   \n",
       "\n",
       "   distance population canton  \n",
       "0   24209.0        NaN    NaN  \n",
       "1   24023.0        NaN    NaN  \n",
       "2  165658.0        NaN    NaN  \n",
       "3       0.0     135629     VD  \n",
       "4    3001.0      17807     VD  \n",
       "5    5363.0        NaN    NaN  \n",
       "6  660413.0        NaN    NaN  \n",
       "7   63283.0        NaN    NaN  \n",
       "8   18352.0        NaN    NaN  \n",
       "9  852778.0        NaN    NaN  "
      ]
     },
     "execution_count": 3,
     "metadata": {},
     "output_type": "execute_result"
    }
   ],
   "source": [
    "geography = pd.read_csv('complete_geography.csv',encoding='latin1')\n",
    "del geography['Unnamed: 0']\n",
    "geography.head(10)"
   ]
  },
  {
   "cell_type": "code",
   "execution_count": 4,
   "metadata": {
    "collapsed": false
   },
   "outputs": [
    {
     "data": {
      "text/plain": [
       "False    1826\n",
       "True      164\n",
       "Name: population, dtype: int64"
      ]
     },
     "execution_count": 4,
     "metadata": {},
     "output_type": "execute_result"
    }
   ],
   "source": [
    "geography.population.notnull().value_counts()"
   ]
  },
  {
   "cell_type": "markdown",
   "metadata": {},
   "source": [
    "Only a few percentage of the data has been mapped into a city whose population is recorded in Wikipedia; for our qualitative purpose it should be sufficient though."
   ]
  },
  {
   "cell_type": "markdown",
   "metadata": {},
   "source": [
    "# Gravitational model and qualitative analysis\n",
    "\n",
    "In this section we try to explore possible correlations between the number of participants to the Lausanne's Marathon and the other geographical features we have introduced."
   ]
  },
  {
   "cell_type": "code",
   "execution_count": 5,
   "metadata": {
    "collapsed": false
   },
   "outputs": [
    {
     "data": {
      "text/html": [
       "<div>\n",
       "<table border=\"1\" class=\"dataframe\">\n",
       "  <thead>\n",
       "    <tr style=\"text-align: right;\">\n",
       "      <th></th>\n",
       "      <th>city</th>\n",
       "      <th>latitude</th>\n",
       "      <th>longitude</th>\n",
       "      <th>runners</th>\n",
       "      <th>distance</th>\n",
       "      <th>population</th>\n",
       "      <th>canton</th>\n",
       "    </tr>\n",
       "  </thead>\n",
       "  <tbody>\n",
       "    <tr>\n",
       "      <th>3</th>\n",
       "      <td>Lausanne</td>\n",
       "      <td>46.5196535</td>\n",
       "      <td>6.6322734</td>\n",
       "      <td>2043</td>\n",
       "      <td>0.0</td>\n",
       "      <td>135629</td>\n",
       "      <td>VD</td>\n",
       "    </tr>\n",
       "    <tr>\n",
       "      <th>4</th>\n",
       "      <td>Pully</td>\n",
       "      <td>46.5092681</td>\n",
       "      <td>6.6654949</td>\n",
       "      <td>312</td>\n",
       "      <td>3001.0</td>\n",
       "      <td>17807</td>\n",
       "      <td>VD</td>\n",
       "    </tr>\n",
       "    <tr>\n",
       "      <th>10</th>\n",
       "      <td>Zürich</td>\n",
       "      <td>47.3768866</td>\n",
       "      <td>8.541694</td>\n",
       "      <td>133</td>\n",
       "      <td>226399.0</td>\n",
       "      <td>396027</td>\n",
       "      <td>ZH</td>\n",
       "    </tr>\n",
       "    <tr>\n",
       "      <th>13</th>\n",
       "      <td>Rolle</td>\n",
       "      <td>46.4612971</td>\n",
       "      <td>6.3397549</td>\n",
       "      <td>46</td>\n",
       "      <td>27630.0</td>\n",
       "      <td>6109</td>\n",
       "      <td>VD</td>\n",
       "    </tr>\n",
       "    <tr>\n",
       "      <th>16</th>\n",
       "      <td>Sion</td>\n",
       "      <td>46.2331221</td>\n",
       "      <td>7.360625999999999</td>\n",
       "      <td>53</td>\n",
       "      <td>95792.0</td>\n",
       "      <td>33532</td>\n",
       "      <td>VS</td>\n",
       "    </tr>\n",
       "  </tbody>\n",
       "</table>\n",
       "</div>"
      ],
      "text/plain": [
       "        city    latitude          longitude  runners  distance population  \\\n",
       "3   Lausanne  46.5196535          6.6322734     2043       0.0     135629   \n",
       "4      Pully  46.5092681          6.6654949      312    3001.0      17807   \n",
       "10    Zürich  47.3768866           8.541694      133  226399.0     396027   \n",
       "13     Rolle  46.4612971          6.3397549       46   27630.0       6109   \n",
       "16      Sion  46.2331221  7.360625999999999       53   95792.0      33532   \n",
       "\n",
       "   canton  \n",
       "3      VD  \n",
       "4      VD  \n",
       "10     ZH  \n",
       "13     VD  \n",
       "16     VS  "
      ]
     },
     "execution_count": 5,
     "metadata": {},
     "output_type": "execute_result"
    }
   ],
   "source": [
    "# consider only nonnull entries of the dataset\n",
    "geo = geography.dropna(axis=0,subset=['population','canton'])\n",
    "geo.head()"
   ]
  },
  {
   "cell_type": "code",
   "execution_count": 6,
   "metadata": {
    "collapsed": false
   },
   "outputs": [],
   "source": [
    "# convert population data into integers\n",
    "p = []\n",
    "for pop in geo.population:\n",
    "    pop = pop.replace(',','')\n",
    "    pop = pop.replace('?','')\n",
    "    p.append(float(pop))\n",
    "P = 135629 # Lausanne's population"
   ]
  },
  {
   "cell_type": "code",
   "execution_count": 7,
   "metadata": {
    "collapsed": false
   },
   "outputs": [],
   "source": [
    "predictor = []\n",
    "gamma = 1 # scaling costant (only for visualization)\n",
    "for j in range(len(geo)):\n",
    "    predictor.append(gamma*P*p[j]/(geo.distance[geo.index[j]]*geo.distance[geo.index[j]]))\n",
    "predictor = predictor[1:] # exclude Lausanne: distance = 0.00 y definition\n",
    "response = list(geo.runners)\n",
    "response = response[1:]"
   ]
  },
  {
   "cell_type": "code",
   "execution_count": 10,
   "metadata": {
    "collapsed": false
   },
   "outputs": [
    {
     "data": {
      "text/plain": [
       "<matplotlib.text.Text at 0xccbe438>"
      ]
     },
     "execution_count": 10,
     "metadata": {},
     "output_type": "execute_result"
    },
    {
     "data": {
      "image/png": "[encoded data removed]",
      "text/plain": [
       "<matplotlib.figure.Figure at 0xb0714e0>"
      ]
     },
     "metadata": {},
     "output_type": "display_data"
    }
   ],
   "source": [
    "# scatter plot\n",
    "plt.plot(predictor,response,marker='.',linestyle='',markersize=10)\n",
    "plt.xscale('log')\n",
    "plt.yscale('log')\n",
    "plt.gcf().set_size_inches(8,6)\n",
    "plt.title('Gravitational model for runners')\n",
    "plt.xlabel('gravitational predictor')\n",
    "plt.ylabel('runners per city')"
   ]
  },
  {
   "cell_type": "markdown",
   "metadata": {},
   "source": [
    "Let us now aggregate the data by Canton. The results are coherent with the logical expectations:"
   ]
  },
  {
   "cell_type": "code",
   "execution_count": 11,
   "metadata": {
    "collapsed": false
   },
   "outputs": [
    {
     "data": {
      "text/plain": [
       "<matplotlib.axes._subplots.AxesSubplot at 0xbc63c50>"
      ]
     },
     "execution_count": 11,
     "metadata": {},
     "output_type": "execute_result"
    },
    {
     "data": {
      "image/png": "[encoded data removed]",
      "text/plain": [
       "<matplotlib.figure.Figure at 0xcd02b70>"
      ]
     },
     "metadata": {},
     "output_type": "display_data"
    }
   ],
   "source": [
    "canton_geo = geo.groupby('canton').apply(np.sum)['runners']\n",
    "sns.barplot(x=canton_geo.index, y=canton_geo)"
   ]
  }
 ],
 "metadata": {
  "anaconda-cloud": {},
  "kernelspec": {
   "display_name": "Python [Root]",
   "language": "python",
   "name": "Python [Root]"
  },
  "language_info": {
   "codemirror_mode": {
    "name": "ipython",
    "version": 3
   },
   "file_extension": ".py",
   "mimetype": "text/x-python",
   "name": "python",
   "nbconvert_exporter": "python",
   "pygments_lexer": "ipython3",
   "version": "3.5.2"
  }
 },
 "nbformat": 4,
 "nbformat_minor": 0
}
