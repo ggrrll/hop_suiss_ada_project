{
 "cells": [
  {
   "cell_type": "markdown",
   "metadata": {},
   "source": [
    "# Scraping geographical coordinates\n",
    "\n",
    "In this section we import some information about Swiss cities (geo-coordinates, population) using a Google API."
   ]
  },
  {
   "cell_type": "markdown",
   "metadata": {},
   "source": [
    "First parsing of geographical coordinates. WARN: invalid key reported. The output is a *geography.csv* file, containing the cities' name and coordinates (latitude, longitude)."
   ]
  },
  {
   "cell_type": "code",
   "execution_count": 7,
   "metadata": {
    "collapsed": true
   },
   "outputs": [],
   "source": [
    "import pandas as pd\n",
    "import numpy as np\n",
    "import matplotlib.pyplot as plt\n",
    "%matplotlib inline\n",
    "import seaborn as sns\n",
    "\n",
    "data = pd.read_csv('lausanne_marathon_2016.csv')"
   ]
  },
  {
   "cell_type": "code",
   "execution_count": 8,
   "metadata": {
    "collapsed": false
   },
   "outputs": [],
   "source": [
    "dictionary = {}\n",
    "cities = data.lieu.value_counts().index\n",
    "import googlemaps\n",
    "gmaps = googlemaps.Client(key='***')"
   ]
  },
  {
   "cell_type": "code",
   "execution_count": 1,
   "metadata": {
    "collapsed": false
   },
   "outputs": [],
   "source": [
    "for city in cities:\n",
    "    geocode_result = gmaps.geocode(city)\n",
    "    if (len(geocode_result)>0):\n",
    "        coord = [geocode_result[0]['geometry']['location']['lat'],geocode_result[0]['geometry']['location']['lng']]\n",
    "        dictionary[city]=coord\n",
    "    else:\n",
    "        dictionary[city]='nan'"
   ]
  },
  {
   "cell_type": "code",
   "execution_count": 59,
   "metadata": {
    "collapsed": false
   },
   "outputs": [],
   "source": [
    "latitude = []\n",
    "longitude = []\n",
    "for city in cities:\n",
    "    latitude.append(dictionary[city][0])\n",
    "    longitude.append(dictionary[city][1])\n",
    "geography = pd.DataFrame({'city' : cities, 'latitude' : latitude, 'longitude' : longitude})\n",
    "geography.to_csv('geography.csv')"
   ]
  },
  {
   "cell_type": "markdown",
   "metadata": {},
   "source": [
    "Add to the dataset the number of runners participating to the Lausanne's Marathon as an additional column and save into *geoinfo.csv*."
   ]
  },
  {
   "cell_type": "code",
   "execution_count": 53,
   "metadata": {
    "collapsed": false
   },
   "outputs": [],
   "source": [
    "cities = pd.read_csv('geography.csv',encoding = 'latin1')\n",
    "del cities['Unnamed: 0']"
   ]
  },
  {
   "cell_type": "code",
   "execution_count": 54,
   "metadata": {
    "collapsed": false
   },
   "outputs": [],
   "source": [
    "runners_per_city = data.lieu.value_counts()\n",
    "population = []\n",
    "for city in cities.city:\n",
    "    k = 0\n",
    "    while (k < len(cities)) and (runners_per_city.index[k]!=city):\n",
    "        k +=1\n",
    "    population.append(runners_per_city[runners_per_city.index[k]])"
   ]
  },
  {
   "cell_type": "code",
   "execution_count": 55,
   "metadata": {
    "collapsed": true
   },
   "outputs": [],
   "source": [
    "cities['runners']=population"
   ]
  },
  {
   "cell_type": "code",
   "execution_count": 56,
   "metadata": {
    "collapsed": false
   },
   "outputs": [],
   "source": [
    "cities.to_csv('geoinfo.csv',encoding='latin1')"
   ]
  },
  {
   "cell_type": "markdown",
   "metadata": {},
   "source": [
    "# Scraping geographical distance from Lausanne\n",
    "\n",
    "Using again a Google API, we save into a suitable file *distances.csv* the real distance [m] between the runner's city and Lausanne."
   ]
  },
  {
   "cell_type": "code",
   "execution_count": 33,
   "metadata": {
    "collapsed": false
   },
   "outputs": [
    {
     "data": {
      "text/plain": [
       "2005"
      ]
     },
     "execution_count": 33,
     "metadata": {},
     "output_type": "execute_result"
    }
   ],
   "source": [
    "distance = []\n",
    "for city in cities:\n",
    "    d = gmaps.distance_matrix(city,'Lausanne')\n",
    "    if d['rows'][0]['elements'][0]['status']=='OK':\n",
    "        distance.append(d['rows'][0]['elements'][0]['distance']['value'])\n",
    "    else:\n",
    "        distance.append('nan')\n",
    "len(distance)"
   ]
  },
  {
   "cell_type": "code",
   "execution_count": 48,
   "metadata": {
    "collapsed": false
   },
   "outputs": [],
   "source": [
    "df = pd.DataFrame({'city' : cities, 'distance' : distance})\n",
    "df.to_csv('distances.csv',encoding='latin1')"
   ]
  },
  {
   "cell_type": "markdown",
   "metadata": {},
   "source": [
    "# Merge datasets\n",
    "\n",
    "Merge the two datasets *geoinfo.csv* and *distances.csv* into a unique file *geodistance.csv*."
   ]
  },
  {
   "cell_type": "code",
   "execution_count": 73,
   "metadata": {
    "collapsed": true
   },
   "outputs": [],
   "source": [
    "cities = pd.read_csv('geoinfo.csv',encoding='latin1')\n",
    "distances = pd.read_csv('distances.csv',encoding='latin1')\n",
    "del cities['Unnamed: 0']\n",
    "del distances['Unnamed: 0']"
   ]
  },
  {
   "cell_type": "code",
   "execution_count": 76,
   "metadata": {
    "collapsed": false
   },
   "outputs": [],
   "source": [
    "dataset = pd.merge(cities,distances,on='city')\n",
    "dataset.to_csv('geodistance.csv',encoding='latin1')"
   ]
  },
  {
   "cell_type": "markdown",
   "metadata": {},
   "source": [
    "# Scraping population data\n",
    "\n",
    "In this section we try to map each city contained in geodistance.csv with its overall population. We scrape the population information from the following Wikipedia [page](https://en.wikipedia.org/wiki/List_of_cities_in_Switzerland) using the *Requests* library."
   ]
  },
  {
   "cell_type": "code",
   "execution_count": 78,
   "metadata": {
    "collapsed": false
   },
   "outputs": [
    {
     "data": {
      "text/html": [
       "<div>\n",
       "<table border=\"1\" class=\"dataframe\">\n",
       "  <thead>\n",
       "    <tr style=\"text-align: right;\">\n",
       "      <th></th>\n",
       "      <th>city</th>\n",
       "      <th>latitude</th>\n",
       "      <th>longitude</th>\n",
       "      <th>runners</th>\n",
       "      <th>distance</th>\n",
       "    </tr>\n",
       "  </thead>\n",
       "  <tbody>\n",
       "    <tr>\n",
       "      <th>0</th>\n",
       "      <td>St-Légier-La Chiésaz</td>\n",
       "      <td>46.47171849999999</td>\n",
       "      <td>6.876770899999999</td>\n",
       "      <td>12</td>\n",
       "      <td>24209.0</td>\n",
       "    </tr>\n",
       "    <tr>\n",
       "      <th>1</th>\n",
       "      <td>St-Légier</td>\n",
       "      <td>46.47171849999999</td>\n",
       "      <td>6.876770899999999</td>\n",
       "      <td>57</td>\n",
       "      <td>24023.0</td>\n",
       "    </tr>\n",
       "    <tr>\n",
       "      <th>2</th>\n",
       "      <td>Ernen</td>\n",
       "      <td>46.39850010000001</td>\n",
       "      <td>8.1457733</td>\n",
       "      <td>1</td>\n",
       "      <td>165658.0</td>\n",
       "    </tr>\n",
       "    <tr>\n",
       "      <th>3</th>\n",
       "      <td>Lausanne</td>\n",
       "      <td>46.5196535</td>\n",
       "      <td>6.6322734</td>\n",
       "      <td>2043</td>\n",
       "      <td>0.0</td>\n",
       "    </tr>\n",
       "    <tr>\n",
       "      <th>4</th>\n",
       "      <td>Pully</td>\n",
       "      <td>46.5092681</td>\n",
       "      <td>6.6654949</td>\n",
       "      <td>312</td>\n",
       "      <td>3001.0</td>\n",
       "    </tr>\n",
       "  </tbody>\n",
       "</table>\n",
       "</div>"
      ],
      "text/plain": [
       "                   city           latitude          longitude  runners  \\\n",
       "0  St-Légier-La Chiésaz  46.47171849999999  6.876770899999999       12   \n",
       "1             St-Légier  46.47171849999999  6.876770899999999       57   \n",
       "2                 Ernen  46.39850010000001          8.1457733        1   \n",
       "3              Lausanne         46.5196535          6.6322734     2043   \n",
       "4                 Pully         46.5092681          6.6654949      312   \n",
       "\n",
       "   distance  \n",
       "0   24209.0  \n",
       "1   24023.0  \n",
       "2  165658.0  \n",
       "3       0.0  \n",
       "4    3001.0  "
      ]
     },
     "execution_count": 78,
     "metadata": {},
     "output_type": "execute_result"
    }
   ],
   "source": [
    "geoinfo = pd.read_csv('geodistance.csv',encoding='latin1')\n",
    "del geoinfo['Unnamed: 0']\n",
    "geoinfo.head(5)"
   ]
  },
  {
   "cell_type": "code",
   "execution_count": 79,
   "metadata": {
    "collapsed": false
   },
   "outputs": [],
   "source": [
    "import requests\n",
    "url = 'https://en.wikipedia.org/wiki/List_of_cities_in_Switzerland'\n",
    "r = requests.get(url)\n",
    "table = pd.read_html(r.text)\n",
    "table = table[1]"
   ]
  },
  {
   "cell_type": "markdown",
   "metadata": {},
   "source": [
    "We are interested in the second table, which provides the relevant information. We import city name, Canton and Population for eventual visualization purposes."
   ]
  },
  {
   "cell_type": "code",
   "execution_count": 80,
   "metadata": {
    "collapsed": false
   },
   "outputs": [],
   "source": [
    "city = table[0][2:]\n",
    "city = city.reset_index(range(len(city)))\n",
    "city = city.rename(columns={0 : 'name'})\n",
    "del city['index']\n",
    "canton = table[3][2:]\n",
    "canton = canton.reset_index(range(len(city)))\n",
    "canton = canton.rename(columns={3 : 'canton'})\n",
    "del canton['index']\n",
    "population = table[4][2:]\n",
    "population = population.reset_index(range(len(city)))\n",
    "population = population.rename(columns={4 : 'population'})\n",
    "del population['index']\n",
    "\n",
    "pop = pd.DataFrame()\n",
    "pop['city']=city\n",
    "pop['canton']=canton\n",
    "pop['population']=population"
   ]
  },
  {
   "cell_type": "code",
   "execution_count": 81,
   "metadata": {
    "collapsed": false
   },
   "outputs": [
    {
     "data": {
      "text/html": [
       "<div>\n",
       "<table border=\"1\" class=\"dataframe\">\n",
       "  <thead>\n",
       "    <tr style=\"text-align: right;\">\n",
       "      <th></th>\n",
       "      <th>city</th>\n",
       "      <th>canton</th>\n",
       "      <th>population</th>\n",
       "    </tr>\n",
       "  </thead>\n",
       "  <tbody>\n",
       "    <tr>\n",
       "      <th>0</th>\n",
       "      <td>Aarau</td>\n",
       "      <td>AG</td>\n",
       "      <td>20710</td>\n",
       "    </tr>\n",
       "    <tr>\n",
       "      <th>1</th>\n",
       "      <td>Aarberg</td>\n",
       "      <td>BE</td>\n",
       "      <td>4529</td>\n",
       "    </tr>\n",
       "    <tr>\n",
       "      <th>2</th>\n",
       "      <td>Aarburg</td>\n",
       "      <td>AG</td>\n",
       "      <td>7723</td>\n",
       "    </tr>\n",
       "    <tr>\n",
       "      <th>3</th>\n",
       "      <td>Adliswil</td>\n",
       "      <td>ZH</td>\n",
       "      <td>18551</td>\n",
       "    </tr>\n",
       "    <tr>\n",
       "      <th>4</th>\n",
       "      <td>Aesch (BL)[note 1]</td>\n",
       "      <td>BL</td>\n",
       "      <td>10198</td>\n",
       "    </tr>\n",
       "  </tbody>\n",
       "</table>\n",
       "</div>"
      ],
      "text/plain": [
       "                 city canton population\n",
       "0               Aarau     AG      20710\n",
       "1             Aarberg     BE       4529\n",
       "2             Aarburg     AG       7723\n",
       "3            Adliswil     ZH      18551\n",
       "4  Aesch (BL)[note 1]     BL      10198"
      ]
     },
     "execution_count": 81,
     "metadata": {},
     "output_type": "execute_result"
    }
   ],
   "source": [
    "pop.head()"
   ]
  },
  {
   "cell_type": "markdown",
   "metadata": {},
   "source": [
    "Try to link each city in *cities* with the names in *pop* through a suitable dictionary:"
   ]
  },
  {
   "cell_type": "code",
   "execution_count": 82,
   "metadata": {
    "collapsed": false
   },
   "outputs": [],
   "source": [
    "mapping = {}\n",
    "for city in geoinfo.city:\n",
    "    k = 0\n",
    "    length = len(pop)\n",
    "    while (k < length) and ((city in pop.city[k])!=True):\n",
    "        k = k+1\n",
    "    if k==length:\n",
    "        mapping[city]='nan'\n",
    "    else:\n",
    "        mapping[city]=k"
   ]
  },
  {
   "cell_type": "code",
   "execution_count": 83,
   "metadata": {
    "collapsed": false
   },
   "outputs": [],
   "source": [
    "population = []\n",
    "canton = []\n",
    "for city in geoinfo.city:\n",
    "    if mapping[city]=='nan':\n",
    "        population.append('nan')\n",
    "        canton.append('nan')\n",
    "    else:\n",
    "        population.append(pop.population[mapping[city]])\n",
    "        canton.append(pop.canton[mapping[city]])\n",
    "geoinfo['population']=population\n",
    "geoinfo['canton']=canton"
   ]
  },
  {
   "cell_type": "code",
   "execution_count": 84,
   "metadata": {
    "collapsed": false
   },
   "outputs": [],
   "source": [
    "geoinfo.to_csv('complete_geography.csv',encoding='latin1')"
   ]
  }
 ],
 "metadata": {
  "anaconda-cloud": {},
  "kernelspec": {
   "display_name": "Python [Root]",
   "language": "python",
   "name": "Python [Root]"
  },
  "language_info": {
   "codemirror_mode": {
    "name": "ipython",
    "version": 3
   },
   "file_extension": ".py",
   "mimetype": "text/x-python",
   "name": "python",
   "nbconvert_exporter": "python",
   "pygments_lexer": "ipython3",
   "version": "3.5.2"
  }
 },
 "nbformat": 4,
 "nbformat_minor": 0
}
